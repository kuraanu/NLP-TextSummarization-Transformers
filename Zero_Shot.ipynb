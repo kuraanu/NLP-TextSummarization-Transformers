{
  "cells": [
    {
      "cell_type": "markdown",
      "metadata": {
        "id": "j9w6bPaU8JzA"
      },
      "source": [
        "# Importing packages and defining a function to calculate the rouge score"
      ]
    },
    {
      "cell_type": "code",
      "execution_count": null,
      "metadata": {
        "id": "IHV3DigL8JzI"
      },
      "outputs": [],
      "source": [
        "import pandas as pd\n",
        "from transformers import AutoModelForSeq2SeqLM\n",
        "from transformers import AutoTokenizer\n",
        "from transformers import GenerationConfig\n",
        "\n",
        "from datasets import load_metric\n",
        "metric = load_metric(\"rouge\")\n",
        "\n",
        "def calc_rouge_scores(candidates, references):\n",
        "    result = metric.compute(predictions=candidates, references=references, use_stemmer=True)\n",
        "    result = {key: round(value.mid.fmeasure * 100, 1) for key, value in result.items()}\n",
        "    return result"
      ]
    },
    {
      "cell_type": "markdown",
      "metadata": {
        "id": "0lhSRUUZ8JzJ"
      },
      "source": [
        "# Importing the data"
      ]
    },
    {
      "cell_type": "code",
      "execution_count": null,
      "metadata": {
        "id": "j_VOJZaA8JzJ"
      },
      "outputs": [],
      "source": [
        "file_path = \"C:\\\\Users\\\\cxs3\\\\Downloads\\\\test.csv\"\n",
        "df = pd.read_csv(file_path)"
      ]
    },
    {
      "cell_type": "markdown",
      "metadata": {
        "id": "UDikmjKZ8JzK"
      },
      "source": [
        "# Importing the t5 model"
      ]
    },
    {
      "cell_type": "code",
      "execution_count": null,
      "metadata": {
        "id": "rSLYXgVH8JzK"
      },
      "outputs": [],
      "source": [
        "model_name='google/flan-t5-base'\n",
        "model = AutoModelForSeq2SeqLM.from_pretrained(model_name)"
      ]
    },
    {
      "cell_type": "code",
      "execution_count": null,
      "metadata": {
        "id": "7n1BuehC8JzK"
      },
      "outputs": [],
      "source": [
        "tokenizer = AutoTokenizer.from_pretrained(model_name, use_fast=True)"
      ]
    },
    {
      "cell_type": "markdown",
      "metadata": {
        "id": "SexJQiH_8JzK"
      },
      "source": [
        "# Applying Zero Shot Inference:"
      ]
    },
    {
      "cell_type": "markdown",
      "metadata": {
        "id": "AlwaUz6uBAdJ"
      },
      "source": [
        "### Model's maximum input tokens is 512. Any input length longer than that will cause indexing errors.\n"
      ]
    },
    {
      "cell_type": "code",
      "execution_count": null,
      "metadata": {
        "id": "7a03-12Gvj-8"
      },
      "outputs": [],
      "source": [
        "MAX_TOKENS=512\n",
        "text_size = 300"
      ]
    },
    {
      "cell_type": "code",
      "execution_count": null,
      "metadata": {
        "id": "hnl88FX78JzL"
      },
      "outputs": [],
      "source": [
        "summerization = []\n",
        "\n",
        "for article in list(df[\"article\"])[:text_size]:\n",
        "    prompt = f\"\"\"Summarize: {article}\"\"\"\n",
        "\n",
        "    # Input constructed prompt instead of the article.\n",
        "    # Here we truncate any input longer than the maximum model input length.\n",
        "    inputs = tokenizer(prompt, return_tensors='pt', max_length=MAX_TOKENS, truncation=True)\n",
        "    output = tokenizer.decode(\n",
        "        model.generate(\n",
        "            inputs[\"input_ids\"],\n",
        "            max_new_tokens=50,\n",
        "        )[0],\n",
        "        skip_special_tokens=True\n",
        "    )\n",
        "    summerization.append(output)"
      ]
    },
    {
      "cell_type": "code",
      "execution_count": null,
      "metadata": {
        "colab": {
          "base_uri": "https://localhost:8080/"
        },
        "id": "CRwKJaUw8JzL",
        "outputId": "9c4c8a86-90a8-46af-a88e-d4e0ad7143ed"
      },
      "outputs": [
        {
          "data": {
            "text/plain": [
              "['Experts question if  packed out planes are putting passengers at risk .\\nU.S consumer advisory group says minimum space must be stipulated .\\nSafety tests conducted on planes with more leg room than airlines offer .',\n",
              " \"Drunk teenage boy climbed into lion enclosure at zoo in west India .\\nRahul Kumar, 17, ran towards animals shouting 'Today I kill a lion!'\\nFortunately he fell into a moat before reaching lions and was rescued .\",\n",
              " \"Nottingham Forest are close to extending Dougie Freedman's contract .\\nThe Forest boss took over from former manager Stuart Pearce in February .\\nFreedman has since lead the club to ninth in the Championship .\",\n",
              " 'Fiorentina goalkeeper Neto has been linked with Liverpool and Arsenal .\\nNeto joined Firoentina\\xa0from Brazilian outfit Atletico Paranaense in 2011 .\\nHe is also wanted by PSG and Spanish clubs, according to his agent .\\nCLICK HERE for the latest Liverpool news .',\n",
              " \"Tell-all interview with the reality TV star, 69, will air on Friday April 24 .\\nIt comes amid continuing speculation about his transition to a woman and following his involvement in a deadly car crash in February .\\nThe interview will also be one of Diane Sawyer's first appearances on television following the sudden death of her husband last year .\"]"
            ]
          },
          "execution_count": 54,
          "metadata": {},
          "output_type": "execute_result"
        }
      ],
      "source": [
        "# Human summaries\n",
        "list(df[\"highlights\"][:5])"
      ]
    },
    {
      "cell_type": "code",
      "execution_count": null,
      "metadata": {
        "colab": {
          "base_uri": "https://localhost:8080/"
        },
        "id": "A8OqAQkm8JzL",
        "outputId": "8b9cb0c7-c03e-4854-c63b-f42f390782a4"
      },
      "outputs": [
        {
          "data": {
            "text/plain": [
              "['Experts say the shrinking space on planes is putting our health and safety in danger.',\n",
              " 'A teenager who climbed into a lion enclosure at a zoo in India has been rescued by zoo staff.',\n",
              " \"Dougie Freedman is set to sign a new two-year deal at Nottingham Forest. Forest's owners are pleased with the job he has done at the City Ground.\",\n",
              " 'Brazilian goalkeeper is wanted by Liverpool and PSG. Brazilian is wanted by PSG and Spain clubs.',\n",
              " \"Bruce Jenner will speak out in a 'far-ranging' interview with Sawyer. The former Olympian and reality TV star will speak out in a 'far-ranging' interview with Sawyer. The interview comes amid growing\"]"
            ]
          },
          "execution_count": 55,
          "metadata": {},
          "output_type": "execute_result"
        }
      ],
      "source": [
        "#model generated summeries\n",
        "summerization[:5]"
      ]
    },
    {
      "cell_type": "code",
      "execution_count": null,
      "metadata": {
        "colab": {
          "base_uri": "https://localhost:8080/"
        },
        "id": "z5FNI_3xY0eG",
        "outputId": "3a5aad98-ae2b-4f63-9920-670fee71b784"
      },
      "outputs": [
        {
          "data": {
            "text/plain": [
              "{'rouge1': 34.0, 'rouge2': 14.7, 'rougeL': 24.8, 'rougeLsum': 29.9}"
            ]
          },
          "execution_count": 56,
          "metadata": {},
          "output_type": "execute_result"
        }
      ],
      "source": [
        "calc_rouge_scores(summerization,df[\"highlights\"][:text_size])"
      ]
    },
    {
      "cell_type": "markdown",
      "metadata": {
        "id": "zCcoQCLwBAdL"
      },
      "source": [
        "# Prompt Engineering"
      ]
    },
    {
      "cell_type": "code",
      "execution_count": null,
      "metadata": {
        "id": "aXZNkuKyBAdL"
      },
      "outputs": [],
      "source": [
        "summerization = []\n",
        "\n",
        "for article in list(df[\"article\"])[:text_size]:\n",
        "    # modified prompt\n",
        "    prompt = f\"Summarize the following news article:\\n\\n\\n{article}\\n\\n\\nProvide a concise summary:\"\n",
        "\n",
        "    # Tokenize the prompt and generate a summary\n",
        "    # Input constructed prompt instead of the article.\n",
        "    inputs = tokenizer(prompt, return_tensors='pt', max_length=MAX_TOKENS, truncation=True)\n",
        "    output = tokenizer.decode(\n",
        "        model.generate(\n",
        "            inputs[\"input_ids\"],\n",
        "            max_new_tokens=50,\n",
        "        )[0],\n",
        "        skip_special_tokens=True\n",
        "    )\n",
        "    summerization.append(output)"
      ]
    },
    {
      "cell_type": "code",
      "execution_count": null,
      "metadata": {
        "id": "vNrmZjmPBAdL",
        "outputId": "823ace0e-9301-4631-e1b8-4afc5309c8a0"
      },
      "outputs": [
        {
          "data": {
            "text/plain": [
              "['Experts say the shrinking space on planes is putting our health and safety in danger.',\n",
              " \"A 17-year-old boy has been rescued after he climbed into a lions' enclosure at a zoo in Ahmedabad.\",\n",
              " \"Dougie Freedman is set to sign a new two-year deal at Nottingham Forest. Forest's owners are pleased with the job he has done at the City Ground.\",\n",
              " 'Brazilian goalkeeper is wanted by Liverpool and PSG. Brazilian is wanted by PSG and Spain clubs.',\n",
              " \"Bruce Jenner will speak out in a 'far-ranging' interview with Sawyer. The former Olympian and reality TV star will speak out in a 'far-ranging' interview with Sawyer. The interview comes amid growing\"]"
            ]
          },
          "execution_count": 58,
          "metadata": {},
          "output_type": "execute_result"
        }
      ],
      "source": [
        "#model generated summeries\n",
        "summerization[:5]"
      ]
    },
    {
      "cell_type": "code",
      "execution_count": null,
      "metadata": {
        "id": "WEPdOW13BAdM",
        "outputId": "9990ea2f-3446-4155-d964-b13d22678418"
      },
      "outputs": [
        {
          "data": {
            "text/plain": [
              "{'rouge1': 34.8, 'rouge2': 15.0, 'rougeL': 25.5, 'rougeLsum': 30.6}"
            ]
          },
          "execution_count": 59,
          "metadata": {},
          "output_type": "execute_result"
        }
      ],
      "source": [
        "calc_rouge_scores(summerization,df[\"highlights\"][:text_size])"
      ]
    },
    {
      "cell_type": "markdown",
      "metadata": {
        "id": "rfPgvT8h8JzM"
      },
      "source": [
        "# Parameter Tuning with Top-p and Top-K Sampling\n",
        "\n"
      ]
    },
    {
      "cell_type": "code",
      "execution_count": null,
      "metadata": {
        "id": "TBViBH908JzM"
      },
      "outputs": [],
      "source": [
        "summerization = []\n",
        "\n",
        "for article in list(df[\"article\"])[:text_size]:\n",
        "    # modified prompt\n",
        "    prompt = f\"Summarize the following news article:\\n\\n\\n{article}\\n\\n\\nProvide a concise summary:\"\n",
        "\n",
        "    # Tokenize the prompt and generate a summary\n",
        "    # Input constructed prompt instead of the article.\n",
        "    inputs = tokenizer(prompt, return_tensors='pt', max_length=MAX_TOKENS, truncation=True)\n",
        "    output = tokenizer.decode(\n",
        "        model.generate(\n",
        "            inputs[\"input_ids\"],\n",
        "            # tuning parameters\n",
        "            max_new_tokens=50,\n",
        "            do_sample=True,\n",
        "            top_k=50,\n",
        "            top_p=0.95,\n",
        "            num_return_sequences=3,\n",
        "            num_beams=5,\n",
        "            length_penalty=2.0,\n",
        "            no_repeat_ngram_size=2,\n",
        "        )[0],\n",
        "        skip_special_tokens=True\n",
        "    )\n",
        "    summerization.append(output)"
      ]
    },
    {
      "cell_type": "code",
      "execution_count": null,
      "metadata": {
        "colab": {
          "base_uri": "https://localhost:8080/"
        },
        "id": "-P-yvW-U8JzN",
        "outputId": "7391faea-11be-4589-9e65-1d82c674670e"
      },
      "outputs": [
        {
          "data": {
            "text/plain": [
              "['Experts are questioning if the shrinking space on aeroplanes is putting our health and safety in danger. This week, a U.S consumer advisory group set up by the Department of Transportation said that while the government is',\n",
              " \"A 17-year-old boy has been rescued after jumping into lions' enclosure at a zoo in Ahmedabad and shouting he would 'kill them' The teenager was sitting near the enclosure when \",\n",
              " \"Dougie Freedman is set to sign a new two-year deal at Nottingham Forest. Forest's owners are pleased with the job he has done at the City Ground. They made an audacious attempt on the play-\",\n",
              " \"Liverpool target Neto is also wanted by PSG and clubs in Spain. Brazilian's agent Stefano Castagna says he has no decision yet about his future. Fiorentina goalkeeper has been linked with a move to\",\n",
              " \"Former Olympian and reality TV star will speak out in a 'far-ranging' interview with Sawyer. The interview comes amid growing speculation about the father-of-six's gender identity. He also split from his wife of\"]"
            ]
          },
          "execution_count": 61,
          "metadata": {},
          "output_type": "execute_result"
        }
      ],
      "source": [
        "#model generated summeries\n",
        "summerization[:5]"
      ]
    },
    {
      "cell_type": "code",
      "execution_count": null,
      "metadata": {
        "colab": {
          "base_uri": "https://localhost:8080/"
        },
        "id": "KuSjRuhZnfdT",
        "outputId": "e2231278-62a6-46ed-d1b5-98bc4e0b5d6a"
      },
      "outputs": [
        {
          "data": {
            "text/plain": [
              "{'rouge1': 37.8, 'rouge2': 16.7, 'rougeL': 26.6, 'rougeLsum': 32.5}"
            ]
          },
          "execution_count": 62,
          "metadata": {},
          "output_type": "execute_result"
        }
      ],
      "source": [
        "calc_rouge_scores(summerization,df[\"highlights\"][:text_size])"
      ]
    },
    {
      "cell_type": "markdown",
      "metadata": {
        "id": "9SSwNNhHov-6"
      },
      "source": [
        "# Applying One-Shot Inference:"
      ]
    },
    {
      "cell_type": "markdown",
      "metadata": {
        "id": "cT09zyOrBAdN"
      },
      "source": [
        "### Because the model's maximum input token is 512, and truncation is used if the input text in too long. This means one-shot and few-shot learning would be difficult since the piece of text we want to summerize would usually be truncaded, leaving only the example summerization."
      ]
    },
    {
      "cell_type": "code",
      "execution_count": null,
      "metadata": {
        "id": "Ny7jTH1Xqjrx"
      },
      "outputs": [],
      "source": [
        "def make_prompt(example_indices_full, text_to_summarize):\n",
        "    prompt = ''\n",
        "    for index in example_indices_full:\n",
        "        article = df[\"article\"][index]\n",
        "        highlights = df['highlights'][index]\n",
        "\n",
        "        prompt += f\"\"\"\n",
        "Summarize the following news article:\n",
        "\n",
        "{article}\n",
        "\n",
        "Provide a concise summary:\n",
        "\n",
        "{highlights}\n",
        "\n",
        "\"\"\"\n",
        "\n",
        "    prompt += f\"\"\"\n",
        "Summarize the following news article:\n",
        "\n",
        "{text_to_summarize}\n",
        "\n",
        "Provide a concise summary:\n",
        "\"\"\"\n",
        "\n",
        "    return prompt"
      ]
    },
    {
      "cell_type": "code",
      "execution_count": null,
      "metadata": {
        "id": "cX1JoAgio2dy"
      },
      "outputs": [],
      "source": [
        "one_shot_summerization = []\n",
        "example_indices_full = [1001]\n",
        "\n",
        "for article in list(df[\"article\"])[:5]:\n",
        "    # one-shot prompt\n",
        "    prompt = make_prompt(example_indices_full,article)\n",
        "\n",
        "    # Tokenize the prompt and generate a summary\n",
        "    # Input constructed prompt instead of the article.\n",
        "    inputs = tokenizer(prompt, return_tensors='pt', max_length=MAX_TOKENS, truncation=True)\n",
        "    output = tokenizer.decode(\n",
        "        model.generate(\n",
        "            inputs[\"input_ids\"],\n",
        "            # tuning parameters\n",
        "            max_new_tokens=50,\n",
        "        )[0],\n",
        "        skip_special_tokens=True\n",
        "    )\n",
        "    one_shot_summerization.append(output)"
      ]
    },
    {
      "cell_type": "code",
      "execution_count": null,
      "metadata": {
        "colab": {
          "base_uri": "https://localhost:8080/"
        },
        "id": "fzGuq8P2uKUb",
        "outputId": "2c93ea71-2243-46b6-bb1a-73010873b16b"
      },
      "outputs": [
        {
          "data": {
            "text/plain": [
              "['Chancellor pledges to double number of first-time buyers buying their first home. He wants at least 2.4 million more over next five years.',\n",
              " 'Chancellor pledges to double number of first-time buyers buying their first home. He wants at least 2.4 million more over next five years.',\n",
              " 'Chancellor pledges to double number of first-time buyers buying their first home. He wants at least 2.4 million more over next five years.',\n",
              " 'Chancellor pledges to double number of first-time buyers buying their first home. He wants at least 2.4 million more over next five years.',\n",
              " 'Chancellor pledges to double number of first-time buyers buying their first home. He wants at least 2.4 million more over next five years.']"
            ]
          },
          "execution_count": 65,
          "metadata": {},
          "output_type": "execute_result"
        }
      ],
      "source": [
        "#model generated summeries\n",
        "one_shot_summerization[:5]"
      ]
    },
    {
      "cell_type": "code",
      "execution_count": null,
      "metadata": {
        "colab": {
          "base_uri": "https://localhost:8080/"
        },
        "id": "f8bDvKfFuMMP",
        "outputId": "2192e25a-6af6-4abf-dc07-d45219073621"
      },
      "outputs": [
        {
          "data": {
            "text/plain": [
              "{'rouge1': 7.8, 'rouge2': 0.0, 'rougeL': 6.5, 'rougeLsum': 7.1}"
            ]
          },
          "execution_count": 66,
          "metadata": {},
          "output_type": "execute_result"
        }
      ],
      "source": [
        "calc_rouge_scores(one_shot_summerization,df[\"highlights\"][:5])"
      ]
    }
  ],
  "metadata": {
    "colab": {
      "provenance": []
    },
    "kernelspec": {
      "display_name": "base",
      "language": "python",
      "name": "python3"
    },
    "language_info": {
      "codemirror_mode": {
        "name": "ipython",
        "version": 3
      },
      "file_extension": ".py",
      "mimetype": "text/x-python",
      "name": "python",
      "nbconvert_exporter": "python",
      "pygments_lexer": "ipython3",
      "version": "3.9.12"
    }
  },
  "nbformat": 4,
  "nbformat_minor": 0
}